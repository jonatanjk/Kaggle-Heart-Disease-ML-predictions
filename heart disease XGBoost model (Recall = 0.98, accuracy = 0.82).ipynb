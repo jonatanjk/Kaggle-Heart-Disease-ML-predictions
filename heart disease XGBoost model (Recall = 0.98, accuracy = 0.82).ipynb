{
 "cells": [
  {
   "cell_type": "code",
   "execution_count": 1,
   "metadata": {},
   "outputs": [],
   "source": [
    "# import dataset\n",
    "import pandas as pd\n",
    "dataset = pd.read_csv('heart.csv')\n",
    "\n",
    "# encode categorical data labels as numerical\n",
    "from sklearn.preprocessing import LabelEncoder \n",
    "le = LabelEncoder()\n",
    "dataset[\"RestingECG\"] = le.fit_transform(dataset[\"RestingECG\"])\n",
    "dataset[\"ST_Slope\"] = le.fit_transform(dataset[\"ST_Slope\"])\n",
    "dataset[\"ExerciseAngina\"] = le.fit_transform(dataset[\"ExerciseAngina\"])\n",
    "dataset[\"ChestPainType\"] = le.fit_transform(dataset[\"ChestPainType\"])\n",
    "dataset[\"Sex\"] = le.fit_transform(dataset[\"Sex\"])\n",
    "\n",
    "# split into X and y\n",
    "y = dataset[\"HeartDisease\"]\n",
    "X = dataset.drop(columns=[\"HeartDisease\"])\n",
    "\n",
    "# scale variables to lie in same range\n",
    "from sklearn.preprocessing import StandardScaler\n",
    "scaler = StandardScaler()\n",
    "X = scaler.fit_transform(X)\n",
    "\n",
    "# split into train/test set\n",
    "from sklearn.model_selection import train_test_split, StratifiedKFold, cross_val_score\n",
    "X_train, X_test, y_train, y_test = train_test_split(X, y, test_size=0.2, stratify=y)\n",
    "\n"
   ]
  },
  {
   "cell_type": "code",
   "execution_count": null,
   "metadata": {},
   "outputs": [],
   "source": []
  },
  {
   "cell_type": "code",
   "execution_count": 2,
   "metadata": {
    "scrolled": true
   },
   "outputs": [
    {
     "name": "stdout",
     "output_type": "stream",
     "text": [
      "Run  0  / 64\n",
      "Run  1  / 64\n",
      "Run  2  / 64\n",
      "Run  3  / 64\n",
      "Run  4  / 64\n",
      "Run  5  / 64\n",
      "Run  6  / 64\n",
      "Run  7  / 64\n",
      "Run  8  / 64\n",
      "Run  9  / 64\n",
      "Run  10  / 64\n",
      "Run  11  / 64\n",
      "Run  12  / 64\n",
      "Run  13  / 64\n",
      "Run  14  / 64\n",
      "Run  15  / 64\n",
      "Run  16  / 64\n",
      "Run  17  / 64\n",
      "Run  18  / 64\n",
      "Run  19  / 64\n",
      "Run  20  / 64\n",
      "Run  21  / 64\n",
      "Run  22  / 64\n",
      "Run  23  / 64\n",
      "Run  24  / 64\n"
     ]
    },
    {
     "name": "stderr",
     "output_type": "stream",
     "text": [
      "C:\\Users\\jonatan\\Anaconda3\\lib\\site-packages\\skopt\\optimizer\\optimizer.py:449: UserWarning: The objective has been evaluated at this point before.\n",
      "  warnings.warn(\"The objective has been evaluated \"\n"
     ]
    },
    {
     "name": "stdout",
     "output_type": "stream",
     "text": [
      "Run  25  / 64\n",
      "Run  26  / 64\n",
      "Run  27  / 64\n",
      "Run  28  / 64\n"
     ]
    },
    {
     "name": "stderr",
     "output_type": "stream",
     "text": [
      "C:\\Users\\jonatan\\Anaconda3\\lib\\site-packages\\skopt\\optimizer\\optimizer.py:449: UserWarning: The objective has been evaluated at this point before.\n",
      "  warnings.warn(\"The objective has been evaluated \"\n"
     ]
    },
    {
     "name": "stdout",
     "output_type": "stream",
     "text": [
      "Run  29  / 64\n",
      "Run  30  / 64\n",
      "Run  31  / 64\n",
      "Run  32  / 64\n",
      "Run  33  / 64\n",
      "Run  34  / 64\n",
      "Run  35  / 64\n",
      "Run  36  / 64\n",
      "Run  37  / 64\n",
      "Run  38  / 64\n"
     ]
    },
    {
     "name": "stderr",
     "output_type": "stream",
     "text": [
      "C:\\Users\\jonatan\\Anaconda3\\lib\\site-packages\\skopt\\optimizer\\optimizer.py:449: UserWarning: The objective has been evaluated at this point before.\n",
      "  warnings.warn(\"The objective has been evaluated \"\n"
     ]
    },
    {
     "name": "stdout",
     "output_type": "stream",
     "text": [
      "Run  39  / 64\n",
      "Run  40  / 64\n"
     ]
    },
    {
     "name": "stderr",
     "output_type": "stream",
     "text": [
      "C:\\Users\\jonatan\\Anaconda3\\lib\\site-packages\\skopt\\optimizer\\optimizer.py:449: UserWarning: The objective has been evaluated at this point before.\n",
      "  warnings.warn(\"The objective has been evaluated \"\n"
     ]
    },
    {
     "name": "stdout",
     "output_type": "stream",
     "text": [
      "Run  41  / 64\n",
      "Run  42  / 64\n",
      "Run  43  / 64\n"
     ]
    },
    {
     "name": "stderr",
     "output_type": "stream",
     "text": [
      "C:\\Users\\jonatan\\Anaconda3\\lib\\site-packages\\skopt\\optimizer\\optimizer.py:449: UserWarning: The objective has been evaluated at this point before.\n",
      "  warnings.warn(\"The objective has been evaluated \"\n"
     ]
    },
    {
     "name": "stdout",
     "output_type": "stream",
     "text": [
      "Run  44  / 64\n",
      "Run  45  / 64\n"
     ]
    },
    {
     "name": "stderr",
     "output_type": "stream",
     "text": [
      "C:\\Users\\jonatan\\Anaconda3\\lib\\site-packages\\skopt\\optimizer\\optimizer.py:449: UserWarning: The objective has been evaluated at this point before.\n",
      "  warnings.warn(\"The objective has been evaluated \"\n"
     ]
    },
    {
     "name": "stdout",
     "output_type": "stream",
     "text": [
      "Run  46  / 64\n"
     ]
    },
    {
     "name": "stderr",
     "output_type": "stream",
     "text": [
      "C:\\Users\\jonatan\\Anaconda3\\lib\\site-packages\\skopt\\optimizer\\optimizer.py:449: UserWarning: The objective has been evaluated at this point before.\n",
      "  warnings.warn(\"The objective has been evaluated \"\n"
     ]
    },
    {
     "name": "stdout",
     "output_type": "stream",
     "text": [
      "Run  47  / 64\n",
      "Run  48  / 64\n",
      "Run  49  / 64\n",
      "Run  50  / 64\n",
      "Run  51  / 64\n"
     ]
    },
    {
     "name": "stderr",
     "output_type": "stream",
     "text": [
      "C:\\Users\\jonatan\\Anaconda3\\lib\\site-packages\\skopt\\optimizer\\optimizer.py:449: UserWarning: The objective has been evaluated at this point before.\n",
      "  warnings.warn(\"The objective has been evaluated \"\n"
     ]
    },
    {
     "name": "stdout",
     "output_type": "stream",
     "text": [
      "Run  52  / 64\n"
     ]
    },
    {
     "name": "stderr",
     "output_type": "stream",
     "text": [
      "C:\\Users\\jonatan\\Anaconda3\\lib\\site-packages\\skopt\\optimizer\\optimizer.py:449: UserWarning: The objective has been evaluated at this point before.\n",
      "  warnings.warn(\"The objective has been evaluated \"\n"
     ]
    },
    {
     "name": "stdout",
     "output_type": "stream",
     "text": [
      "Run  53  / 64\n"
     ]
    },
    {
     "name": "stderr",
     "output_type": "stream",
     "text": [
      "C:\\Users\\jonatan\\Anaconda3\\lib\\site-packages\\skopt\\optimizer\\optimizer.py:449: UserWarning: The objective has been evaluated at this point before.\n",
      "  warnings.warn(\"The objective has been evaluated \"\n"
     ]
    },
    {
     "name": "stdout",
     "output_type": "stream",
     "text": [
      "Run  54  / 64\n",
      "Run  55  / 64\n",
      "Run  56  / 64\n",
      "Run  57  / 64\n"
     ]
    },
    {
     "name": "stderr",
     "output_type": "stream",
     "text": [
      "C:\\Users\\jonatan\\Anaconda3\\lib\\site-packages\\skopt\\optimizer\\optimizer.py:449: UserWarning: The objective has been evaluated at this point before.\n",
      "  warnings.warn(\"The objective has been evaluated \"\n"
     ]
    },
    {
     "name": "stdout",
     "output_type": "stream",
     "text": [
      "Run  58  / 64\n",
      "Run  59  / 64\n",
      "Run  60  / 64\n",
      "Run  61  / 64\n"
     ]
    },
    {
     "name": "stderr",
     "output_type": "stream",
     "text": [
      "C:\\Users\\jonatan\\Anaconda3\\lib\\site-packages\\skopt\\optimizer\\optimizer.py:449: UserWarning: The objective has been evaluated at this point before.\n",
      "  warnings.warn(\"The objective has been evaluated \"\n"
     ]
    },
    {
     "name": "stdout",
     "output_type": "stream",
     "text": [
      "Run  62  / 64\n",
      "Run  63  / 64\n",
      "[19:58:47] WARNING: C:/Users/Administrator/workspace/xgboost-win64_release_1.4.0/src/learner.cc:573: \n",
      "Parameters: { \"iid\" } might not be used.\n",
      "\n",
      "  This may not be accurate due to some parameters are only used in language bindings but\n",
      "  passed down to XGBoost core.  Or some parameters are not used but slip through this\n",
      "  verification. Please open an issue if you find above cases.\n",
      "\n",
      "\n",
      "[19:58:47] WARNING: C:/Users/Administrator/workspace/xgboost-win64_release_1.4.0/src/learner.cc:1095: Starting in XGBoost 1.3.0, the default evaluation metric used with the objective 'binary:logistic' was changed from 'error' to 'logloss'. Explicitly set eval_metric if you'd like to restore the old behavior.\n"
     ]
    },
    {
     "name": "stderr",
     "output_type": "stream",
     "text": [
      "C:\\Users\\jonatan\\AppData\\Roaming\\Python\\Python37\\site-packages\\xgboost\\sklearn.py:1146: UserWarning: The use of label encoder in XGBClassifier is deprecated and will be removed in a future release. To remove this warning, do the following: 1) Pass option use_label_encoder=False when constructing XGBClassifier object; and 2) Encode your labels (y) as integers starting with 0, i.e. 0, 1, 2, ..., [num_class - 1].\n",
      "  warnings.warn(label_encoder_deprecation_msg, UserWarning)\n"
     ]
    }
   ],
   "source": [
    "####### Do hyperparameter optimisation by bayes search cross validation ########\n",
    "from skopt import BayesSearchCV\n",
    "from skopt.space import Real, Integer, Categorical\n",
    "from xgboost import XGBClassifier\n",
    "from sklearn.metrics import roc_curve, auc\n",
    "from sklearn.metrics import accuracy_score, make_scorer, confusion_matrix, precision_score, recall_score, accuracy_score\n",
    "\n",
    "search_space = {\"n_estimators\": Integer(600, 900),\n",
    "        \"max_depth\": Integer(8, 15),\n",
    "        \"learning_rate\": Real(0.05, 0.3), \n",
    "        \"reg_alpha\": Real(0, 1),\n",
    "        \"reg_lambda\": Real(0, 1),\n",
    "        \"gamma\": Real(0, 1),\n",
    "#         \"min_child_weight\": Real(0, 50),\n",
    "#         \"use_label_encoder\":Categorical([False]),\n",
    "#         'binary:logistic':Categorical([\"logloss\"]),\n",
    "#         'max_delta_step': Real(0, 20),\n",
    "#         'subsample': Real(0, 1.0, 'uniform')\n",
    "    }\n",
    "\n",
    "XGB_bayes_search = BayesSearchCV(\n",
    "    estimator = XGBClassifier(\n",
    "        n_jobs = 1,\n",
    "        objective = 'binary:logistic',\n",
    "        iid=\"False\"\n",
    "    ),\n",
    "    search_spaces = search_space,\n",
    "    scoring = 'roc_auc',\n",
    "    cv = StratifiedKFold(n_splits=5),\n",
    "    n_jobs = 3,\n",
    "    n_iter = 64\n",
    "    )\n",
    "\n",
    "def callback(res):\n",
    "    global i\n",
    "    print(\"Run \",i, \" / 64\")\n",
    "    i += 1\n",
    "\n",
    "\n",
    "i = 0\n",
    "XGB_bayes_search.fit(X_train, y_train, callback=callback)\n",
    "\n",
    "\n",
    "best_params = XGB_bayes_search.best_params_\n",
    "best_estimator = XGB_bayes_search.best_estimator_\n",
    "best_score = XGB_bayes_search.best_score_"
   ]
  },
  {
   "cell_type": "code",
   "execution_count": 3,
   "metadata": {},
   "outputs": [
    {
     "name": "stdout",
     "output_type": "stream",
     "text": [
      "OrderedDict([('gamma', 0.6861090944170453), ('learning_rate', 0.11730639213971089), ('max_depth', 11), ('n_estimators', 685), ('reg_alpha', 0.7711278581578535), ('reg_lambda', 0.8789716417278316)])\n",
      "Best CV score:\n",
      "0.9280022478245823\n",
      "refit model test set score:\n",
      "0.9441654710664753\n",
      "refit model test set score: (other method) - it should be the same, but sometimes isn't - why?\n",
      "0.8695652173913043\n"
     ]
    }
   ],
   "source": [
    "print(best_params)\n",
    "print(\"Best CV score:\")\n",
    "print(best_score)\n",
    "print(\"refit model test set score:\")\n",
    "print(XGB_bayes_search.score(X_test, y_test))\n",
    "print(\"refit model test set score: (other method) - it should be the same, but sometimes isn't - why?\")\n",
    "print(XGB_bayes_search.best_estimator_.score(X_test, y_test))"
   ]
  },
  {
   "cell_type": "code",
   "execution_count": 6,
   "metadata": {},
   "outputs": [
    {
     "name": "stdout",
     "output_type": "stream",
     "text": [
      "AUC:  0.8560497369679578\n",
      "Precision:  0.819672131147541\n",
      "Recall:  0.9803921568627451\n",
      "Accuracy:  0.8695652173913043\n",
      "\n",
      "Confusion matrix: \n",
      "     pred_neg  pred_pos\n",
      "neg        60        22\n",
      "pos         2       100\n"
     ]
    },
    {
     "data": {
      "image/png": "[encoded data removed]",
      "text/plain": [
       "<Figure size 432x288 with 1 Axes>"
      ]
     },
     "metadata": {
      "needs_background": "light"
     },
     "output_type": "display_data"
    }
   ],
   "source": [
    "# Model Building\n",
    "\n",
    "# clf = XGBClassifier(use_label_encoder=False,\n",
    "#                    eval_metric=\"logloss\",\n",
    "#                    n_estimators=600,\n",
    "#                    max_depth=3,\n",
    "#                    learning_rate=0.1)\n",
    "\n",
    "# # fit the model on the train dataset\n",
    "# clf.fit(X_train, y_train, verbose=0)\n",
    "\n",
    "clf = best_estimator\n",
    "\n",
    "# run the fitted model on the test set and obtain the probabilities that each data point lies in each class\n",
    "y_prob = clf.predict_proba(X_test)\n",
    "\n",
    "# set the probabilty threshold to determine precision/recall tradeoff\n",
    "threshold = 0.2\n",
    "\n",
    "# obtain 1/0 list based on if probabiltiy is above/below threshold\n",
    "certainty = y_prob[:, 1] > threshold\n",
    "y_pred = certainty.astype(int)  \n",
    "\n",
    "# y_pred = clf.predict(X_test)\n",
    "\n",
    "# calculate metrics\n",
    "fpr, tpr, threshold = roc_curve(y_test, y_pred)\n",
    "roc_auc = auc(fpr, tpr)\n",
    "prec = precision_score(y_test, y_pred)\n",
    "rec = recall_score(y_test, y_pred)\n",
    "acc = accuracy_score(y_test, y_pred)\n",
    "\n",
    "\n",
    "print(\"AUC: \", roc_auc)\n",
    "print(\"Precision: \" , prec)\n",
    "print(\"Recall: \" , rec)\n",
    "print(\"Accuracy: \", acc)\n",
    "\n",
    "print(\"\")\n",
    "print(\"Confusion matrix: \")\n",
    "print(pd.DataFrame(confusion_matrix(y_test, y_pred),\n",
    "             columns=['pred_neg', 'pred_pos'], index=['neg', 'pos']))\n",
    "\n",
    "import matplotlib.pyplot as plt\n",
    "plt.title('Receiver Operating Characteristic')\n",
    "plt.plot(fpr, tpr, 'b', label = 'AUC = %0.2f' % roc_auc)\n",
    "plt.legend(loc = 'lower right')\n",
    "plt.plot([0, 1], [0, 1],'r--')\n",
    "plt.xlim([0, 1])\n",
    "plt.ylim([0, 1])\n",
    "plt.ylabel('True Positive Rate')\n",
    "plt.xlabel('False Positive Rate')\n",
    "plt.show()"
   ]
  },
  {
   "cell_type": "markdown",
   "metadata": {},
   "source": [
    "The model achieves a precision of 0.82 and a recall of 0.98. This model focuses on the recall instead of precision as a false positive is much less dangerous than a false negative when it comes to heart disease. I.e. it is better to erroneously start treatment for a potential at risk individual than to not treat an at-risk individual."
   ]
  }
 ],
 "metadata": {
  "kernelspec": {
   "display_name": "Python 3",
   "language": "python",
   "name": "python3"
  },
  "language_info": {
   "codemirror_mode": {
    "name": "ipython",
    "version": 3
   },
   "file_extension": ".py",
   "mimetype": "text/x-python",
   "name": "python",
   "nbconvert_exporter": "python",
   "pygments_lexer": "ipython3",
   "version": "3.7.4"
  }
 },
 "nbformat": 4,
 "nbformat_minor": 2
}
