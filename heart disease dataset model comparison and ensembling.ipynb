{
 "cells": [
  {
   "cell_type": "markdown",
   "metadata": {},
   "source": [
    "## Comparing XGBoost and neural networks on a tabular heart disease dataset\n",
    "\n",
    "This notebook aims to compare the performance of two widely-used, but very different, models on a Kaggle dataset (https://www.kaggle.com/fedesoriano/heart-failure-prediction/tasks?taskId=6055) which aims to predict heart disease onset using a range of patient information. The notebook will use scikit-learn's implementation of XGBoost and CatBoost and tensorflow's neural networks. Hyperparameter optimization will be run for all models and the performance will be compared. Various ensembles of the models will also be tested."
   ]
  },
  {
   "cell_type": "code",
   "execution_count": 1,
   "metadata": {},
   "outputs": [],
   "source": [
    "# install some packages\n",
    "\n",
    "# ! pip install xgboost\n",
    "# ! pip install catboost"
   ]
  },
  {
   "cell_type": "code",
   "execution_count": 2,
   "metadata": {},
   "outputs": [],
   "source": [
    "# from looking at Kaggle, this dataset is quite clean, no missing values etc. so can skip straight to the model building phase\n",
    "# (but some pre-processing is still needed)\n",
    "\n",
    "# import dataset\n",
    "import pandas as pd\n",
    "dataset = pd.read_csv('heart.csv')\n",
    "\n",
    "# encode categorical data labels as numerical\n",
    "from sklearn.preprocessing import LabelEncoder \n",
    "le = LabelEncoder()\n",
    "dataset[\"RestingECG\"] = le.fit_transform(dataset[\"RestingECG\"])\n",
    "dataset[\"ST_Slope\"] = le.fit_transform(dataset[\"ST_Slope\"])\n",
    "dataset[\"ExerciseAngina\"] = le.fit_transform(dataset[\"ExerciseAngina\"])\n",
    "dataset[\"ChestPainType\"] = le.fit_transform(dataset[\"ChestPainType\"])\n",
    "dataset[\"Sex\"] = le.fit_transform(dataset[\"Sex\"])\n",
    "\n",
    "# split into X and y\n",
    "y = dataset[\"HeartDisease\"]\n",
    "X = dataset.drop(columns=[\"HeartDisease\"])\n",
    "\n",
    "# scale variables to lie in same range\n",
    "from sklearn.preprocessing import StandardScaler\n",
    "scaler = StandardScaler()\n",
    "X = scaler.fit_transform(X)\n",
    "\n",
    "# split into train/test set\n",
    "from sklearn.model_selection import train_test_split, StratifiedKFold, cross_val_score\n",
    "X_train, X_test, y_train, y_test = train_test_split(X, y, test_size=0.2, stratify=y)\n",
    "\n"
   ]
  },
  {
   "cell_type": "code",
   "execution_count": 3,
   "metadata": {
    "scrolled": true
   },
   "outputs": [
    {
     "name": "stdout",
     "output_type": "stream",
     "text": [
      "Run  0\n",
      "Run  1\n",
      "Run  2\n",
      "Run  3\n",
      "Run  4\n",
      "Run  5\n",
      "Run  6\n",
      "Run  7\n",
      "Run  8\n",
      "Run  9\n",
      "Run  10\n",
      "Run  11\n",
      "Run  12\n",
      "Run  13\n",
      "Run  14\n",
      "Run  15\n",
      "Run  16\n",
      "Run  17\n"
     ]
    },
    {
     "name": "stderr",
     "output_type": "stream",
     "text": [
      "C:\\Users\\jonatan\\Anaconda3\\lib\\site-packages\\skopt\\optimizer\\optimizer.py:449: UserWarning: The objective has been evaluated at this point before.\n",
      "  warnings.warn(\"The objective has been evaluated \"\n"
     ]
    },
    {
     "name": "stdout",
     "output_type": "stream",
     "text": [
      "Run  18\n",
      "Run  19\n",
      "Run  20\n",
      "Run  21\n",
      "Run  22\n",
      "Run  23\n",
      "Run  24\n",
      "Run  25\n",
      "Run  26\n",
      "Run  27\n",
      "Run  28\n",
      "Run  29\n",
      "Run  30\n",
      "Run  31\n",
      "Run  32\n",
      "Run  33\n",
      "Run  34\n",
      "Run  35\n"
     ]
    },
    {
     "name": "stderr",
     "output_type": "stream",
     "text": [
      "C:\\Users\\jonatan\\Anaconda3\\lib\\site-packages\\skopt\\optimizer\\optimizer.py:449: UserWarning: The objective has been evaluated at this point before.\n",
      "  warnings.warn(\"The objective has been evaluated \"\n"
     ]
    },
    {
     "name": "stdout",
     "output_type": "stream",
     "text": [
      "Run  36\n",
      "Run  37\n",
      "Run  38\n",
      "Run  39\n",
      "Run  40\n",
      "Run  41\n",
      "Run  42\n",
      "Run  43\n",
      "Run  44\n",
      "Run  45\n",
      "Run  46\n",
      "Run  47\n",
      "Run  48\n",
      "Run  49\n",
      "Run  50\n",
      "Run  51\n"
     ]
    },
    {
     "name": "stderr",
     "output_type": "stream",
     "text": [
      "C:\\Users\\jonatan\\Anaconda3\\lib\\site-packages\\skopt\\optimizer\\optimizer.py:449: UserWarning: The objective has been evaluated at this point before.\n",
      "  warnings.warn(\"The objective has been evaluated \"\n"
     ]
    },
    {
     "name": "stdout",
     "output_type": "stream",
     "text": [
      "Run  52\n",
      "Run  53\n",
      "Run  54\n",
      "Run  55\n",
      "Run  56\n",
      "Run  57\n",
      "Run  58\n",
      "Run  59\n",
      "Run  60\n",
      "Run  61\n",
      "Run  62\n",
      "Run  63\n",
      "[09:40:01] WARNING: C:/Users/Administrator/workspace/xgboost-win64_release_1.4.0/src/learner.cc:573: \n",
      "Parameters: { \"iid\" } might not be used.\n",
      "\n",
      "  This may not be accurate due to some parameters are only used in language bindings but\n",
      "  passed down to XGBoost core.  Or some parameters are not used but slip through this\n",
      "  verification. Please open an issue if you find above cases.\n",
      "\n",
      "\n",
      "[09:40:01] WARNING: C:/Users/Administrator/workspace/xgboost-win64_release_1.4.0/src/learner.cc:1095: Starting in XGBoost 1.3.0, the default evaluation metric used with the objective 'binary:logistic' was changed from 'error' to 'logloss'. Explicitly set eval_metric if you'd like to restore the old behavior.\n"
     ]
    },
    {
     "name": "stderr",
     "output_type": "stream",
     "text": [
      "C:\\Users\\jonatan\\AppData\\Roaming\\Python\\Python37\\site-packages\\xgboost\\sklearn.py:1146: UserWarning: The use of label encoder in XGBClassifier is deprecated and will be removed in a future release. To remove this warning, do the following: 1) Pass option use_label_encoder=False when constructing XGBClassifier object; and 2) Encode your labels (y) as integers starting with 0, i.e. 0, 1, 2, ..., [num_class - 1].\n",
      "  warnings.warn(label_encoder_deprecation_msg, UserWarning)\n"
     ]
    }
   ],
   "source": [
    "# Do hyperparameter optimization by bayes search cross validation\n",
    "from skopt import BayesSearchCV\n",
    "from skopt.space import Real, Integer, Categorical\n",
    "from xgboost import XGBClassifier\n",
    "from sklearn.metrics import roc_curve, auc\n",
    "from sklearn.metrics import accuracy_score, make_scorer, confusion_matrix, precision_score, recall_score, accuracy_score\n",
    "\n",
    "hp_opt = True\n",
    "\n",
    "#     search_space = {\"n_estimators\": Integer(600, 900),\n",
    "#             \"max_depth\": Integer(8, 15),\n",
    "#             \"learning_rate\": Real(0.05, 0.3), \n",
    "#             \"reg_alpha\": Real(0, 1),\n",
    "#             \"reg_lambda\": Real(0, 1),\n",
    "#             \"gamma\": Real(0, 1),\n",
    "\n",
    "if hp_opt:\n",
    "    search_space = {\"n_estimators\": Integer(400, 1200),\n",
    "            \"max_depth\": Integer(2, 15),\n",
    "            \"learning_rate\": Real(0.05, 0.3), \n",
    "            \"reg_alpha\": Real(0, 2),\n",
    "            \"reg_lambda\": Real(0, 2),\n",
    "            \"gamma\": Real(0, 2),\n",
    "    #         \"min_child_weight\": Real(0, 50),\n",
    "    #         \"use_label_encoder\":Categorical([False]),\n",
    "    #         'binary:logistic':Categorical([\"logloss\"]),\n",
    "    #         'max_delta_step': Real(0, 20),\n",
    "    #         'subsample': Real(0, 1.0, 'uniform')\n",
    "        }\n",
    "\n",
    "    XGB_bayes_search = BayesSearchCV(\n",
    "        estimator = XGBClassifier(\n",
    "            n_jobs = 1,\n",
    "            objective = 'binary:logistic',\n",
    "            iid=\"False\"\n",
    "        ),\n",
    "        search_spaces = search_space,\n",
    "        scoring = 'accuracy',\n",
    "        cv = StratifiedKFold(n_splits=5),\n",
    "        n_jobs = 3,\n",
    "        n_iter = 64\n",
    "        )\n",
    "\n",
    "    def callback(res):\n",
    "        global i\n",
    "        print(\"Run \",i)\n",
    "        i += 1\n",
    "\n",
    "    i = 0\n",
    "    XGB_bayes_search.fit(X_train, y_train, callback=callback)\n",
    "\n",
    "    best_params = XGB_bayes_search.best_params_\n",
    "    best_estimator = XGB_bayes_search.best_estimator_\n",
    "    best_score = XGB_bayes_search.best_score_"
   ]
  },
  {
   "cell_type": "code",
   "execution_count": 4,
   "metadata": {},
   "outputs": [
    {
     "name": "stdout",
     "output_type": "stream",
     "text": [
      "OrderedDict([('gamma', 1.9663341512620622), ('learning_rate', 0.0734395586996158), ('max_depth', 3), ('n_estimators', 484), ('reg_alpha', 0.3656307218165796), ('reg_lambda', 1.0384737915707287)])\n",
      "Best CV score:\n",
      "0.8678474114441417\n",
      "refit model test set score:\n",
      "0.9184782608695652\n",
      "refit model test set score: (other method) - it should be the same, but sometimes isn't - why?\n",
      "0.9184782608695652\n"
     ]
    }
   ],
   "source": [
    "if hp_opt:\n",
    "    print(best_params)\n",
    "    print(\"Best CV score:\")\n",
    "    print(best_score)\n",
    "    print(\"refit model test set score:\")\n",
    "    print(XGB_bayes_search.score(X_test, y_test))\n",
    "    print(\"refit model test set score: (other method) - it should be the same, but sometimes isn't - why?\")\n",
    "    print(XGB_bayes_search.best_estimator_.score(X_test, y_test))"
   ]
  },
  {
   "cell_type": "code",
   "execution_count": 25,
   "metadata": {},
   "outputs": [
    {
     "name": "stdout",
     "output_type": "stream",
     "text": [
      "AUC:  0.8682448589191775\n",
      "Precision:  0.8333333333333334\n",
      "Recall:  0.9803921568627451\n",
      "Accuracy:  0.8804347826086957\n",
      "\n",
      "Confusion matrix: \n",
      "     pred_neg  pred_pos\n",
      "neg        62        20\n",
      "pos         2       100\n"
     ]
    },
    {
     "data": {
      "image/png": "[encoded data removed]",
      "text/plain": [
       "<Figure size 432x288 with 1 Axes>"
      ]
     },
     "metadata": {
      "needs_background": "light"
     },
     "output_type": "display_data"
    }
   ],
   "source": [
    "# Model Building\n",
    "\n",
    "clf = best_estimator\n",
    "\n",
    "# run the fitted model on the test set and obtain the probabilities that each data point lies in each class\n",
    "y_prob = clf.predict_proba(X_test)\n",
    "\n",
    "# set the probabilty threshold to determine precision/recall tradeoff\n",
    "threshold = 0.35\n",
    "\n",
    "# obtain 1/0 list based on if probabiltiy is above/below threshold\n",
    "certainty = y_prob[:, 1] > threshold\n",
    "y_pred = certainty.astype(int)  \n",
    "\n",
    "# calculate metrics\n",
    "fpr, tpr, threshold = roc_curve(y_test, y_pred)\n",
    "roc_auc = auc(fpr, tpr)\n",
    "prec = precision_score(y_test, y_pred)\n",
    "rec = recall_score(y_test, y_pred)\n",
    "acc = accuracy_score(y_test, y_pred)\n",
    "\n",
    "\n",
    "print(\"AUC: \", roc_auc)\n",
    "print(\"Precision: \" , prec)\n",
    "print(\"Recall: \" , rec)\n",
    "print(\"Accuracy: \", acc)\n",
    "\n",
    "print(\"\")\n",
    "print(\"Confusion matrix: \")\n",
    "print(pd.DataFrame(confusion_matrix(y_test, y_pred),\n",
    "             columns=['pred_neg', 'pred_pos'], index=['neg', 'pos']))\n",
    "\n",
    "import matplotlib.pyplot as plt\n",
    "plt.title('Receiver Operating Characteristic')\n",
    "plt.plot(fpr, tpr, 'b', label = 'AUC = %0.2f' % roc_auc)\n",
    "plt.legend(loc = 'lower right')\n",
    "plt.plot([0, 1], [0, 1],'r--')\n",
    "plt.xlim([0, 1])\n",
    "plt.ylim([0, 1])\n",
    "plt.ylabel('True Positive Rate')\n",
    "plt.xlabel('False Positive Rate')\n",
    "plt.show()"
   ]
  },
  {
   "cell_type": "code",
   "execution_count": 6,
   "metadata": {
    "scrolled": true
   },
   "outputs": [
    {
     "name": "stdout",
     "output_type": "stream",
     "text": [
      "Trial 90 Complete [00h 00m 09s]\n",
      "val_accuracy: 0.8639456033706665\n",
      "\n",
      "Best val_accuracy So Far: 0.8775510191917419\n",
      "Total elapsed time: 00h 07m 12s\n",
      "INFO:tensorflow:Oracle triggered exit\n"
     ]
    }
   ],
   "source": [
    "# Now try a Neural Network\n",
    "import tensorflow as tf\n",
    "import keras_tuner as kt\n",
    "\n",
    "hp_opt_nn = True\n",
    "\n",
    "if hp_opt_nn:\n",
    "    # split train set into cv train set and validation set\n",
    "    X_train_cv, X_val, y_train_cv, y_val = train_test_split(X_train, y_train, test_size=0.2, stratify=y_train)\n",
    "\n",
    "    # model building function with custom hyperparameters\n",
    "    def build_model(hp):\n",
    "        inputs = tf.keras.Input(shape=(11,))\n",
    "        x = inputs\n",
    "\n",
    "        x = tf.keras.layers.Dense(hp.Int('layer_size_1', 3, 11, step=1), activation='relu')(x)\n",
    "        x = tf.keras.layers.Dense(hp.Int('layer_size_2', 3, 11, step=1), activation='relu')(x)\n",
    "        x = tf.keras.layers.Dropout(hp.Float('dropout_rate', 0.0, 0.5, step=0.05, default=0.2))(x)\n",
    "        x = tf.keras.layers.Dense(1, activation = 'sigmoid')(x)\n",
    "        outputs = x\n",
    "\n",
    "        model = tf.keras.Model(inputs, outputs)\n",
    "        model.compile(\n",
    "            optimizer=tf.keras.optimizers.Adam(\n",
    "                hp.Float('learning_rate', 1e-3, 1e-1, sampling='log')),\n",
    "            loss='binary_crossentropy', \n",
    "            metrics=['accuracy', 'Recall', 'Precision', 'AUC'])\n",
    "        return model\n",
    "\n",
    "    tuner = kt.Hyperband(build_model, objective=\"val_accuracy\", max_epochs=30, overwrite=True)\n",
    "\n",
    "    # search for optimal hyperparameters\n",
    "    tuner.search(X_train_cv, y_train_cv,\n",
    "                 validation_data=(X_val, y_val),\n",
    "                 epochs=30,\n",
    "                 callbacks=[tf.keras.callbacks.EarlyStopping(patience=5)])\n",
    "\n",
    "    best_model = tuner.get_best_models(1)[0]"
   ]
  },
  {
   "cell_type": "code",
   "execution_count": 26,
   "metadata": {},
   "outputs": [
    {
     "name": "stdout",
     "output_type": "stream",
     "text": [
      "Model: \"model\"\n",
      "_________________________________________________________________\n",
      "Layer (type)                 Output Shape              Param #   \n",
      "=================================================================\n",
      "input_1 (InputLayer)         [(None, 11)]              0         \n",
      "_________________________________________________________________\n",
      "dense (Dense)                (None, 10)                120       \n",
      "_________________________________________________________________\n",
      "dense_1 (Dense)              (None, 5)                 55        \n",
      "_________________________________________________________________\n",
      "dropout (Dropout)            (None, 5)                 0         \n",
      "_________________________________________________________________\n",
      "dense_2 (Dense)              (None, 1)                 6         \n",
      "=================================================================\n",
      "Total params: 181\n",
      "Trainable params: 181\n",
      "Non-trainable params: 0\n",
      "_________________________________________________________________\n",
      "accuracy:  0.8369565217391305\n",
      "Recall:  0.9803921568627451\n",
      "Precision:  0.78125\n",
      "AUC:  0.8194643711142993\n"
     ]
    }
   ],
   "source": [
    "# now run best model on test set (wasn't used during cross-validation)\n",
    "\n",
    "# loss_nn, acc_nn, rec_nn, prec_nn, auc_nn = best_model.evaluate(X_test, y_test)\n",
    "\n",
    "# predict class probabilities using NN model\n",
    "y_prob_nn = best_model.predict(X_test)\n",
    "\n",
    "# obtain 1/0 list based on if probabiltiy is above/below threshold\n",
    "# set threshold so that both models have around 98% recall, and can be compared\n",
    "threshold = 0.15\n",
    "certainty = y_prob_nn > threshold\n",
    "y_pred_nn = certainty.astype(int)  \n",
    "\n",
    "# calculate metrics\n",
    "fpr, tpr, threshold = roc_curve(y_test, y_pred_nn)\n",
    "roc_auc_nn = auc(fpr, tpr)\n",
    "prec_nn = precision_score(y_test, y_pred_nn)\n",
    "rec_nn = recall_score(y_test, y_pred_nn)\n",
    "acc_nn = accuracy_score(y_test, y_pred_nn)\n",
    "\n",
    "# print model summary\n",
    "best_model.summary()\n",
    "\n",
    "print(\"accuracy: \", acc_nn)\n",
    "print(\"Recall: \", rec_nn)\n",
    "print(\"Precision: \", prec_nn)\n",
    "print(\"AUC: \", roc_auc_nn)"
   ]
  },
  {
   "cell_type": "code",
   "execution_count": 27,
   "metadata": {},
   "outputs": [
    {
     "data": {
      "image/png": "[encoded data removed]",
      "text/plain": [
       "<Figure size 432x288 with 1 Axes>"
      ]
     },
     "metadata": {
      "needs_background": "light"
     },
     "output_type": "display_data"
    },
    {
     "name": "stdout",
     "output_type": "stream",
     "text": [
      "XGB Accuracy :  0.8804\n",
      "NN Accuracy :  0.837\n"
     ]
    },
    {
     "data": {
      "image/png": "[encoded data removed]",
      "text/plain": [
       "<Figure size 432x288 with 1 Axes>"
      ]
     },
     "metadata": {
      "needs_background": "light"
     },
     "output_type": "display_data"
    },
    {
     "name": "stdout",
     "output_type": "stream",
     "text": [
      "XGB Recall :  0.9804\n",
      "NN Recall :  0.9804\n"
     ]
    },
    {
     "data": {
      "image/png": "[encoded data removed]",
      "text/plain": [
       "<Figure size 432x288 with 1 Axes>"
      ]
     },
     "metadata": {
      "needs_background": "light"
     },
     "output_type": "display_data"
    },
    {
     "name": "stdout",
     "output_type": "stream",
     "text": [
      "XGB Precision :  0.8333\n",
      "NN Precision :  0.7812\n"
     ]
    },
    {
     "data": {
      "image/png": "[encoded data removed]",
      "text/plain": [
       "<Figure size 432x288 with 1 Axes>"
      ]
     },
     "metadata": {
      "needs_background": "light"
     },
     "output_type": "display_data"
    },
    {
     "name": "stdout",
     "output_type": "stream",
     "text": [
      "XGB AUC :  0.8682\n",
      "NN AUC :  0.8195\n"
     ]
    }
   ],
   "source": [
    "# visualise metrics for XGBoost and NN\n",
    "\n",
    "import matplotlib.pyplot as plt\n",
    "\n",
    "def plot_metric(metrics, metric_name, model_names, colours):\n",
    "    plt.bar(x=(model_names[0], model_names[1]), height=(metrics[0], metrics[1]), color=(colours[0], colours[1]))\n",
    "    plt.ylabel(metric_name)\n",
    "    plt.xlabel(\"Model\")\n",
    "    plt.show()    \n",
    "    print(model_names[0], metric_name, \": \",  round(metrics[0], 4))\n",
    "    print(model_names[1], metric_name, \": \",  round(metrics[1], 4))\n",
    "    \n",
    "plot_metric((acc, acc_nn), \"Accuracy\", [\"XGB\", \"NN\"], colours=[\"green\", \"blue\"])\n",
    "plot_metric((rec, rec_nn), \"Recall\", [\"XGB\", \"NN\"], colours=[\"green\", \"blue\"])\n",
    "plot_metric((prec, prec_nn), \"Precision\", [\"XGB\", \"NN\"], colours=[\"green\", \"blue\"])\n",
    "plot_metric((roc_auc, roc_auc_nn), \"AUC\", [\"XGB\", \"NN\"], colours=[\"green\", \"blue\"])"
   ]
  },
  {
   "cell_type": "markdown",
   "metadata": {},
   "source": [
    "Both the XGB and NN models have had their decision boundaries tuned to give a recall score of 98% (recall is very important in a heart disease dataset). Doing so, The XGB model slightly outperformed the NN in all used metrics; accuracy, precision and AUC. Running this notebook several times however, it was found that both models are quite unstable and lead to varying final test set metrics. Therefore, to give a better representation, the whole notebook should be run several times. From this, a mean and uncertainty in the metrics could be obtained.\n"
   ]
  },
  {
   "cell_type": "code",
   "execution_count": 30,
   "metadata": {},
   "outputs": [
    {
     "name": "stdout",
     "output_type": "stream",
     "text": [
      "accuracy:  0.8858695652173914\n",
      "Recall:  0.9803921568627451\n",
      "Precision:  0.8403361344537815\n",
      "AUC:  0.8743424198947873\n"
     ]
    },
    {
     "data": {
      "image/png": "[encoded data removed]",
      "text/plain": [
       "<Figure size 432x288 with 1 Axes>"
      ]
     },
     "metadata": {
      "needs_background": "light"
     },
     "output_type": "display_data"
    },
    {
     "name": "stdout",
     "output_type": "stream",
     "text": [
      "Ensemble Accuracy :  0.8859\n",
      "XGB Accuracy :  0.8804\n"
     ]
    },
    {
     "data": {
      "image/png": "[encoded data removed]",
      "text/plain": [
       "<Figure size 432x288 with 1 Axes>"
      ]
     },
     "metadata": {
      "needs_background": "light"
     },
     "output_type": "display_data"
    },
    {
     "name": "stdout",
     "output_type": "stream",
     "text": [
      "Ensemble Recall :  0.9804\n",
      "XGB Recall :  0.9804\n"
     ]
    },
    {
     "data": {
      "image/png": "[encoded data removed]",
      "text/plain": [
       "<Figure size 432x288 with 1 Axes>"
      ]
     },
     "metadata": {
      "needs_background": "light"
     },
     "output_type": "display_data"
    },
    {
     "name": "stdout",
     "output_type": "stream",
     "text": [
      "Ensemble Precision :  0.8403\n",
      "XGB Precision :  0.8333\n"
     ]
    },
    {
     "data": {
      "image/png": "[encoded data removed]",
      "text/plain": [
       "<Figure size 432x288 with 1 Axes>"
      ]
     },
     "metadata": {
      "needs_background": "light"
     },
     "output_type": "display_data"
    },
    {
     "name": "stdout",
     "output_type": "stream",
     "text": [
      "Ensemble AUC :  0.8743\n",
      "XGB AUC :  0.8682\n"
     ]
    }
   ],
   "source": [
    "# could we make a quick ensemble of the XGB and NN and see if it outperforms the individual models?\n",
    "\n",
    "# simply take average of the two probability vectors \n",
    "y_prob_ens = (y_prob[:, 1].reshape(184, 1) + y_prob_nn) / 2\n",
    "\n",
    "# as before, set recall to 98%\n",
    "threshold = 0.35\n",
    "certainty = y_prob_ens > threshold\n",
    "y_pred_ens = certainty.astype(int)  \n",
    "\n",
    "# calculate metrics\n",
    "fpr, tpr, threshold = roc_curve(y_test, y_pred_ens)\n",
    "roc_auc_ens = auc(fpr, tpr)\n",
    "prec_ens = precision_score(y_test, y_pred_ens)\n",
    "rec_ens = recall_score(y_test, y_pred_ens)\n",
    "acc_ens = accuracy_score(y_test, y_pred_ens)\n",
    "\n",
    "print(\"accuracy: \", acc_ens)\n",
    "print(\"Recall: \", rec_ens)\n",
    "print(\"Precision: \", prec_ens)\n",
    "print(\"AUC: \", roc_auc_ens)\n",
    "\n",
    "plot_metric((acc_ens, acc), \"Accuracy\", [\"Ensemble\", \"XGB\"], colours=[\"teal\", \"green\"])\n",
    "plot_metric((rec_ens, rec), \"Recall\", [\"Ensemble\", \"XGB\"], colours=[\"teal\", \"green\"])\n",
    "plot_metric((prec_ens, prec), \"Precision\", [\"Ensemble\", \"XGB\"], colours=[\"teal\", \"green\"])\n",
    "plot_metric((roc_auc_ens, roc_auc), \"AUC\", [\"Ensemble\", \"XGB\"], colours=[\"teal\", \"green\"])"
   ]
  },
  {
   "cell_type": "markdown",
   "metadata": {},
   "source": [
    "As can be seen, the basic ensemble of the XGB and NN model outperforms the individual XGB model in all categories. This is a significant improvement and begs the question of what other models could be added to an ensemble to achieve even better results? A potential candidate could be catBoost, which is a decision tree method specifically made for categorical data - which makes up 5/11 attributes in this dataset.\n",
    "\n",
    "Additionally, a more advanced ensemble method could be chosen, e.g. putting more emphasis on the better models. Or even a stacking ensemble where an entirely new model is made that learns how to most efefctively weight the probabilities generated by the sub-models."
   ]
  },
  {
   "cell_type": "code",
   "execution_count": 10,
   "metadata": {},
   "outputs": [
    {
     "name": "stdout",
     "output_type": "stream",
     "text": [
      "Run  0\n",
      "Run  1\n",
      "Run  2\n",
      "Run  3\n",
      "Run  4\n",
      "Run  5\n",
      "Run  6\n",
      "Run  7\n",
      "Run  8\n",
      "Run  9\n",
      "Run  10\n",
      "Run  11\n",
      "Run  12\n",
      "Run  13\n",
      "Run  14\n",
      "Run  15\n",
      "Run  16\n",
      "Run  17\n",
      "Run  18\n",
      "Run  19\n",
      "Run  20\n",
      "Run  21\n",
      "Run  22\n",
      "Run  23\n",
      "Run  24\n",
      "Run  25\n",
      "Run  26\n",
      "Run  27\n",
      "Run  28\n",
      "Run  29\n",
      "Run  30\n",
      "Run  31\n",
      "0:\tlearn: 0.5978679\ttotal: 164ms\tremaining: 1.64s\n",
      "1:\tlearn: 0.5321114\ttotal: 166ms\tremaining: 748ms\n",
      "2:\tlearn: 0.4883289\ttotal: 167ms\tremaining: 446ms\n",
      "3:\tlearn: 0.4525781\ttotal: 169ms\tremaining: 295ms\n",
      "4:\tlearn: 0.4261666\ttotal: 170ms\tremaining: 204ms\n",
      "5:\tlearn: 0.4045392\ttotal: 171ms\tremaining: 143ms\n",
      "6:\tlearn: 0.3918430\ttotal: 173ms\tremaining: 98.7ms\n",
      "7:\tlearn: 0.3804480\ttotal: 174ms\tremaining: 65.3ms\n",
      "8:\tlearn: 0.3664789\ttotal: 176ms\tremaining: 39ms\n",
      "9:\tlearn: 0.3549752\ttotal: 177ms\tremaining: 17.7ms\n",
      "10:\tlearn: 0.3448948\ttotal: 178ms\tremaining: 0us\n"
     ]
    }
   ],
   "source": [
    "# catBoost algorithm (takes a long time)\n",
    "\n",
    "hp_opt_cat = True\n",
    "\n",
    "from catboost import CatBoostClassifier\n",
    "\n",
    "if hp_opt_cat:\n",
    "    search_space = {\"iterations\": Integer(4, 11),\n",
    "            \"depth\": Integer(2, 8),\n",
    "            \"learning_rate\": Real(0.05, 0.3), \n",
    "            \"l2_leaf_reg\": Real(0, 2),\n",
    "            \"random_strength\": Real(0, 2),\n",
    "            \"bagging_temperature\": Real(0, 2),\n",
    "        }\n",
    "\n",
    "    CB_bayes_search = BayesSearchCV(\n",
    "        estimator = CatBoostClassifier(),\n",
    "        search_spaces = search_space,\n",
    "        scoring = 'accuracy',\n",
    "        cv = StratifiedKFold(n_splits=5),\n",
    "        n_jobs = 3,\n",
    "        n_iter = 32\n",
    "        )\n",
    "\n",
    "    def callback(res):\n",
    "        global i\n",
    "        print(\"Run \",i)\n",
    "        i += 1\n",
    "\n",
    "    i = 0\n",
    "    CB_bayes_search.fit(X_train, y_train, callback=callback)\n",
    "\n",
    "    best_params_CB = CB_bayes_search.best_params_\n",
    "    best_estimator_CB = CB_bayes_search.best_estimator_\n",
    "    best_score_CB = CB_bayes_search.best_score_"
   ]
  },
  {
   "cell_type": "code",
   "execution_count": 38,
   "metadata": {},
   "outputs": [
    {
     "name": "stdout",
     "output_type": "stream",
     "text": [
      "OrderedDict([('bagging_temperature', 0.0), ('depth', 4), ('iterations', 11), ('l2_leaf_reg', 2.0), ('learning_rate', 0.21742885036674708), ('random_strength', 0.42155943298433224)])\n",
      "AUC:  0.8743424198947873\n",
      "Precision:  0.8403361344537815\n",
      "Recall:  0.9803921568627451\n",
      "Accuracy:  0.8858695652173914\n"
     ]
    },
    {
     "data": {
      "image/png": "[encoded data removed]",
      "text/plain": [
       "<Figure size 432x288 with 1 Axes>"
      ]
     },
     "metadata": {
      "needs_background": "light"
     },
     "output_type": "display_data"
    },
    {
     "name": "stdout",
     "output_type": "stream",
     "text": [
      "CatBoost Accuracy :  0.8859\n",
      "XGB Accuracy :  0.8804\n"
     ]
    },
    {
     "data": {
      "image/png": "[encoded data removed]",
      "text/plain": [
       "<Figure size 432x288 with 1 Axes>"
      ]
     },
     "metadata": {
      "needs_background": "light"
     },
     "output_type": "display_data"
    },
    {
     "name": "stdout",
     "output_type": "stream",
     "text": [
      "CatBoost Recall :  0.9804\n",
      "XGB Recall :  0.9804\n"
     ]
    },
    {
     "data": {
      "image/png": "[encoded data removed]",
      "text/plain": [
       "<Figure size 432x288 with 1 Axes>"
      ]
     },
     "metadata": {
      "needs_background": "light"
     },
     "output_type": "display_data"
    },
    {
     "name": "stdout",
     "output_type": "stream",
     "text": [
      "CatBoost Precision :  0.8403\n",
      "XGB Precision :  0.8333\n"
     ]
    },
    {
     "data": {
      "image/png": "[encoded data removed]",
      "text/plain": [
       "<Figure size 432x288 with 1 Axes>"
      ]
     },
     "metadata": {
      "needs_background": "light"
     },
     "output_type": "display_data"
    },
    {
     "name": "stdout",
     "output_type": "stream",
     "text": [
      "CatBoost AUC :  0.8743\n",
      "XGB AUC :  0.8682\n"
     ]
    }
   ],
   "source": [
    "clf = best_estimator_CB\n",
    "best_params = CB_bayes_search.best_params_\n",
    "print(best_params)\n",
    "\n",
    "# run the fitted model on the test set and obtain the probabilities that each data point lies in each class\n",
    "y_prob_CB = clf.predict_proba(X_test)\n",
    "\n",
    "# set the probabilty threshold to determine precision/recall tradeoff\n",
    "threshold = 0.4\n",
    "\n",
    "# obtain 1/0 list based on if probabiltiy is above/below threshold\n",
    "certainty = y_prob_CB[:, 1] > threshold\n",
    "y_pred_CB = certainty.astype(int)  \n",
    "\n",
    "# calculate metrics\n",
    "fpr, tpr, threshold = roc_curve(y_test, y_pred_CB)\n",
    "roc_auc_CB = auc(fpr, tpr)\n",
    "prec_CB = precision_score(y_test, y_pred_CB)\n",
    "rec_CB = recall_score(y_test, y_pred_CB)\n",
    "acc_CB = accuracy_score(y_test, y_pred_CB)\n",
    "\n",
    "\n",
    "print(\"AUC: \", roc_auc_CB)\n",
    "print(\"Precision: \" , prec_CB)\n",
    "print(\"Recall: \" , rec_CB)\n",
    "print(\"Accuracy: \", acc_CB)\n",
    "\n",
    "plot_metric((acc_CB, acc), \"Accuracy\", [\"CatBoost\", \"XGB\"], colours=[\"orange\", \"green\"])\n",
    "plot_metric((rec_CB, rec), \"Recall\", [\"CatBoost\", \"XGB\"], colours=[\"orange\", \"green\"])\n",
    "plot_metric((prec_CB, prec), \"Precision\", [\"CatBoost\", \"XGB\"], colours=[\"orange\", \"green\"])\n",
    "plot_metric((roc_auc_CB, roc_auc), \"AUC\", [\"CatBoost\", \"XGB\"], colours=[\"orange\", \"green\"])"
   ]
  },
  {
   "cell_type": "markdown",
   "metadata": {},
   "source": [
    "CatBoost slightly outperforms XGB in all metrics - let's add it as a third sub-model to the ensemble."
   ]
  },
  {
   "cell_type": "code",
   "execution_count": 37,
   "metadata": {},
   "outputs": [
    {
     "name": "stdout",
     "output_type": "stream",
     "text": [
      "accuracy:  0.8913043478260869\n",
      "Recall:  0.9803921568627451\n",
      "Precision:  0.847457627118644\n",
      "AUC:  0.8804399808703971\n"
     ]
    },
    {
     "data": {
      "image/png": "[encoded data removed]",
      "text/plain": [
       "<Figure size 432x288 with 1 Axes>"
      ]
     },
     "metadata": {
      "needs_background": "light"
     },
     "output_type": "display_data"
    },
    {
     "name": "stdout",
     "output_type": "stream",
     "text": [
      "3-Ensemble Accuracy :  0.8913\n",
      "2-Ensemble Accuracy :  0.8859\n"
     ]
    },
    {
     "data": {
      "image/png": "[encoded data removed]",
      "text/plain": [
       "<Figure size 432x288 with 1 Axes>"
      ]
     },
     "metadata": {
      "needs_background": "light"
     },
     "output_type": "display_data"
    },
    {
     "name": "stdout",
     "output_type": "stream",
     "text": [
      "3-Ensemble Recall :  0.9804\n",
      "2-Ensemble Recall :  0.9804\n"
     ]
    },
    {
     "data": {
      "image/png": "[encoded data removed]",
      "text/plain": [
       "<Figure size 432x288 with 1 Axes>"
      ]
     },
     "metadata": {
      "needs_background": "light"
     },
     "output_type": "display_data"
    },
    {
     "name": "stdout",
     "output_type": "stream",
     "text": [
      "3-Ensemble Precision :  0.8475\n",
      "2-Ensemble Precision :  0.8403\n"
     ]
    },
    {
     "data": {
      "image/png": "[encoded data removed]",
      "text/plain": [
       "<Figure size 432x288 with 1 Axes>"
      ]
     },
     "metadata": {
      "needs_background": "light"
     },
     "output_type": "display_data"
    },
    {
     "name": "stdout",
     "output_type": "stream",
     "text": [
      "3-Ensemble AUC :  0.8804\n",
      "2-Ensemble AUC :  0.8743\n"
     ]
    }
   ],
   "source": [
    "# do 3-ensemble\n",
    "\n",
    "y_prob_3ens = (y_prob[:, 1].reshape(184, 1) + y_prob_nn + y_prob_CB[:, 1].reshape(184, 1)) / 3\n",
    "\n",
    "# as before, set recall to 98%\n",
    "threshold = 0.42\n",
    "certainty = y_prob_3ens > threshold\n",
    "y_pred_3ens = certainty.astype(int)  \n",
    "\n",
    "# calculate metrics\n",
    "fpr, tpr, threshold = roc_curve(y_test, y_pred_3ens)\n",
    "roc_auc_3ens = auc(fpr, tpr)\n",
    "prec_3ens = precision_score(y_test, y_pred_3ens)\n",
    "rec_3ens = recall_score(y_test, y_pred_3ens)\n",
    "acc_3ens = accuracy_score(y_test, y_pred_3ens)\n",
    "\n",
    "print(\"accuracy: \", acc_3ens)\n",
    "print(\"Recall: \", rec_3ens)\n",
    "print(\"Precision: \", prec_3ens)\n",
    "print(\"AUC: \", roc_auc_3ens)\n",
    "\n",
    "plot_metric((acc_3ens, acc_ens), \"Accuracy\", [\"3-Ensemble\", \"2-Ensemble\"], colours=[\"purple\", \"teal\"])\n",
    "plot_metric((rec_3ens, rec_ens), \"Recall\", [\"3-Ensemble\", \"2-Ensemble\"], colours=[\"purple\", \"teal\"])\n",
    "plot_metric((prec_3ens, prec_ens), \"Precision\", [\"3-Ensemble\", \"2-Ensemble\"], colours=[\"purple\", \"teal\"])\n",
    "plot_metric((roc_auc_3ens, roc_auc_ens), \"AUC\", [\"3-Ensemble\", \"2-Ensemble\"], colours=[\"purple\", \"teal\"])"
   ]
  },
  {
   "cell_type": "markdown",
   "metadata": {},
   "source": [
    "As expected, the 3-ensemble model outperforms the 2-ensemble model. It was found that running this notebook several times produced varying results for the optimizers for the sub-models. More data exploration and subsequent transformation should be done to provide a hopefully less unstable training process. Also, the best models should be saved to a file so that the hyperparameter optimization steps don't have to be re-run each time."
   ]
  }
 ],
 "metadata": {
  "kernelspec": {
   "display_name": "Python 3",
   "language": "python",
   "name": "python3"
  },
  "language_info": {
   "codemirror_mode": {
    "name": "ipython",
    "version": 3
   },
   "file_extension": ".py",
   "mimetype": "text/x-python",
   "name": "python",
   "nbconvert_exporter": "python",
   "pygments_lexer": "ipython3",
   "version": "3.7.4"
  }
 },
 "nbformat": 4,
 "nbformat_minor": 2
}
